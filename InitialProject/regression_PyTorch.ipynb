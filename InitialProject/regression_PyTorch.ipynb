{
 "cells": [
  {
   "cell_type": "code",
   "execution_count": 1,
   "metadata": {},
   "outputs": [],
   "source": [
    "import torch\n",
    "import torch.nn as nn\n",
    "import torch.optim as optim\n",
    "from torch.utils.data import Dataset, DataLoader\n",
    "from torch.nn import CrossEntropyLoss\n",
    "import pandas as pd\n",
    "import numpy as np\n",
    "from sklearn.metrics import roc_auc_score, log_loss\n",
    "from sklearn.model_selection import train_test_split\n",
    "import numpy as np\n",
    "import matplotlib.pyplot as plt\n",
    "import random\n",
    "from sklearn.metrics import mean_absolute_percentage_error\n",
    "from sklearn.preprocessing import StandardScaler, QuantileTransformer"
   ]
  },
  {
   "cell_type": "code",
   "execution_count": 2,
   "metadata": {},
   "outputs": [],
   "source": [
    "train_path = \"Data files/AppML_InitialProject_train.h5\"\n",
    "test_path = \"Data files/AppML_InitialProject_test_regression.h5\"\n",
    "train_df = pd.read_hdf(train_path)\n",
    "train_df = train_df[train_df[\"p_Truth_Energy\"] > 0]\n",
    "test_df = pd.read_hdf(test_path)\n",
    "data_train = train_df.iloc[:, :-2]\n",
    "data_regr_target = train_df.iloc[:, -1]\n",
    "selected_features = [\n",
    "    \"p_pt_track\",\n",
    "    \"pX_ecore\",\n",
    "    \"p_eta\",\n",
    "    \"p_sigmad0\",\n",
    "    \"pX_deltaPhi0\",\n",
    "    \"pX_maxEcell_energy\",\n",
    "    \"pX_MultiLepton\",\n",
    "    \"pX_E3x5_Lr2\",\n",
    "    \"p_numberOfTRTXenonHits\",\n",
    "    \"p_numberOfTRTHits\",\n",
    "    \"pX_ptconecoreTrackPtrCorrection\",\n",
    "    \"p_ptcone40\",\n",
    "    \"pX_E_Lr2_HiG\",\n",
    "    \"p_d0\",\n",
    "    \"pX_E_Lr1_MedG\",\n",
    "    \"p_ptPU30\",\n",
    "    \"pX_maxEcell_z\",\n",
    "    \"pX_topoetcone20\",\n",
    "    \"pX_core57cellsEnergyCorrection\",\n",
    "    \"pX_deltaPhiRescaled0\",\n",
    "    \"pX_topoetcone40ptCorrection\",\n",
    "    \"pX_deltaPhi2\",\n",
    "    \"p_deltaPhiRescaled2\",\n",
    "    \"p_dPOverP\",\n",
    "    \"pX_nCells_Lr0_HiG\",\n",
    "]\n",
    "X_train_init, X_test_init, y_train_init, y_test_init = train_test_split(\n",
    "    data_train[selected_features], data_regr_target, test_size=0.1, random_state=42\n",
    ")\n",
    "\n",
    "scaler = QuantileTransformer()\n",
    "X_train_init = scaler.fit_transform(X_train_init)\n",
    "X_test_init = scaler.fit_transform(X_test_init)"
   ]
  },
  {
   "cell_type": "code",
   "execution_count": 3,
   "metadata": {},
   "outputs": [],
   "source": [
    "class MyDataset(Dataset):\n",
    "    def __init__(self, X_data, y_data):\n",
    "        self.input = X_data\n",
    "        self.truth = y_data\n",
    "\n",
    "    def __getitem__(self, index):\n",
    "        return self.input[index], self.truth[index]\n",
    "\n",
    "    def __len__(self):\n",
    "        return len(self.input)\n",
    "\n",
    "\n",
    "class MLPRegression(nn.Module):\n",
    "    def __init__(self):\n",
    "        super(MLPRegression, self).__init__()\n",
    "        self.input_layer = nn.Linear(25, 256)\n",
    "        self.hidden_layer1 = nn.Linear(256, 128)\n",
    "        self.hidden_layer2 = nn.Linear(128, 64)\n",
    "        self.hidden_layer3 = nn.Linear(64, 32)\n",
    "        self.hidden_layer4 = nn.Linear(32, 16)\n",
    "        self.output_layer = nn.Linear(16, 1)\n",
    "        self.relu = nn.ReLU()\n",
    "\n",
    "    def forward(self, inputs):\n",
    "        x = self.input_layer(inputs)\n",
    "        x = self.relu(x)\n",
    "        x = self.hidden_layer1(x)\n",
    "        x = self.relu(x)\n",
    "        x = self.hidden_layer2(x)\n",
    "        x = self.relu(x)\n",
    "        x = self.hidden_layer3(x)\n",
    "        x = self.relu(x)\n",
    "        x = self.hidden_layer4(x)\n",
    "        x = self.relu(x)\n",
    "        x = self.output_layer(x)\n",
    "        return x\n",
    "\n",
    "def Train(model, optimizer, loss_function, train_loader, validation_loader, device, epochs):\n",
    "    validation_loss = []\n",
    "    training_loss = []\n",
    "    model.train()\n",
    "    for e in range(0, epochs):\n",
    "        epoch_loss = 0\n",
    "        n_minibatches = 0\n",
    "        for input_train_batch, truth_train_batch in train_loader:\n",
    "            input_train_batch, truth_train_batch = input_train_batch.to(\n",
    "                device), truth_train_batch.to(device)\n",
    "            optimizer.zero_grad()\n",
    "            # This asks our model to produce predictions on the training batch\n",
    "            prediction = model(input_train_batch).flatten()\n",
    "            # This calculates the loss\n",
    "            loss = loss_function(prediction, truth_train_batch)\n",
    "            # This initiates the backpropagation\n",
    "            loss.backward()\n",
    "            optimizer.step()\n",
    "            epoch_loss += loss.item()\n",
    "            n_minibatches += 1\n",
    "\n",
    "        # Now that the model have trained 1 epoch, we evaluate the model on the validation set:\n",
    "        valid_loss = Validate(model, validation_loader, device, loss_function)\n",
    "        validation_loss.append(valid_loss)\n",
    "        training_loss.append(epoch_loss/n_minibatches)\n",
    "        print('EPOCH: %s | training loss: %s  | validation loss: %s' %\n",
    "              (e+1, round(epoch_loss/n_minibatches, 3), round(valid_loss, 3)))\n",
    "    return training_loss, validation_loss\n",
    "\n",
    "\n",
    "def Validate(model, validation_loader, device, loss_function):\n",
    "    model.eval()\n",
    "    n_batches = 0\n",
    "    validation_loss = 0\n",
    "    with torch.no_grad():\n",
    "        for input_valid_batch, truth_valid_batch in validation_loader:\n",
    "            input_valid_batch, truth_valid_batch = input_valid_batch.to(\n",
    "                device), truth_valid_batch.to(device)\n",
    "            prediction = model(input_valid_batch).flatten()\n",
    "            loss = loss_function(prediction, truth_valid_batch)\n",
    "            validation_loss += loss.item()\n",
    "            n_batches += 1\n",
    "    validation_loss = validation_loss/n_batches\n",
    "    return validation_loss\n",
    "\n",
    "\n",
    "def Predict(model, validation_loader, device):\n",
    "    model.eval()\n",
    "    predictions = []\n",
    "    print('PREDICTING!')\n",
    "    with torch.no_grad():\n",
    "        for input_pred_batch, _ in validation_loader:\n",
    "            input_pred_batch = input_pred_batch.to(device)\n",
    "            prediction = model(input_pred_batch)\n",
    "            predictions.extend(prediction)\n",
    "    print('Done Predicting!')\n",
    "    return np.array(torch.FloatTensor(predictions))"
   ]
  },
  {
   "cell_type": "code",
   "execution_count": 4,
   "metadata": {},
   "outputs": [
    {
     "name": "stdout",
     "output_type": "stream",
     "text": [
      "tensor([[0.6584, 0.2617, 0.4894,  ..., 0.5430, 0.7790, 0.2938],\n",
      "        [0.0445, 0.9927, 0.9850,  ..., 0.1677, 0.0108, 0.0000],\n",
      "        [0.1858, 0.8300, 0.0520,  ..., 0.9872, 0.9953, 0.0000],\n",
      "        ...,\n",
      "        [0.6941, 0.5658, 0.0758,  ..., 0.6544, 0.8717, 0.0000],\n",
      "        [0.2845, 0.7711, 0.8061,  ..., 0.5847, 0.6046, 0.8864],\n",
      "        [0.8407, 0.9633, 0.9832,  ..., 0.4525, 0.8895, 0.0000]])\n",
      "tensor([ 26747.0566,  20203.8145,  22993.6719,  ...,  51303.9805,\n",
      "         16063.8037, 151666.8594])\n"
     ]
    }
   ],
   "source": [
    "train_data = MyDataset(torch.FloatTensor(np.array(X_train_init)),\n",
    "                       torch.FloatTensor(np.array(y_train_init)))\n",
    "test_data = MyDataset(torch.FloatTensor(np.array(X_test_init)),\n",
    "                      torch.FloatTensor(np.array(y_test_init)))\n",
    "print(train_data.input)\n",
    "print(train_data.truth)"
   ]
  },
  {
   "cell_type": "code",
   "execution_count": 5,
   "metadata": {},
   "outputs": [
    {
     "name": "stdout",
     "output_type": "stream",
     "text": [
      "EPOCH: 1 | training loss: 934025110.351  | validation loss: 492630728.753\n",
      "EPOCH: 2 | training loss: 405817976.398  | validation loss: 408795471.718\n",
      "EPOCH: 3 | training loss: 348958320.728  | validation loss: 371149197.835\n",
      "EPOCH: 4 | training loss: 320338389.453  | validation loss: 349241239.059\n",
      "EPOCH: 5 | training loss: 301825983.746  | validation loss: 334235579.247\n",
      "EPOCH: 6 | training loss: 289765537.291  | validation loss: 324195918.306\n",
      "EPOCH: 7 | training loss: 281185994.448  | validation loss: 315846521.953\n",
      "EPOCH: 8 | training loss: 274745787.728  | validation loss: 309481824.0\n",
      "EPOCH: 9 | training loss: 269297468.281  | validation loss: 304594193.929\n",
      "EPOCH: 10 | training loss: 264489098.469  | validation loss: 299444082.988\n",
      "EPOCH: 11 | training loss: 260116153.563  | validation loss: 295063190.706\n",
      "EPOCH: 12 | training loss: 256185862.903  | validation loss: 291471664.494\n",
      "EPOCH: 13 | training loss: 252462244.223  | validation loss: 287629933.765\n",
      "EPOCH: 14 | training loss: 249048125.453  | validation loss: 284356419.176\n",
      "EPOCH: 15 | training loss: 245843585.425  | validation loss: 280696287.035\n",
      "EPOCH: 16 | training loss: 242784697.665  | validation loss: 277781193.482\n",
      "EPOCH: 17 | training loss: 239826369.02  | validation loss: 275047661.718\n",
      "EPOCH: 18 | training loss: 236939134.851  | validation loss: 272064696.329\n",
      "EPOCH: 19 | training loss: 234357269.073  | validation loss: 269602210.635\n",
      "EPOCH: 20 | training loss: 231599951.733  | validation loss: 267898738.376\n",
      "EPOCH: 21 | training loss: 229077656.119  | validation loss: 264933101.671\n",
      "EPOCH: 22 | training loss: 226721617.72  | validation loss: 263091586.588\n",
      "EPOCH: 23 | training loss: 224525881.623  | validation loss: 261067594.847\n",
      "EPOCH: 24 | training loss: 222123727.834  | validation loss: 259266744.8\n",
      "EPOCH: 25 | training loss: 220295633.844  | validation loss: 257081701.129\n",
      "EPOCH: 26 | training loss: 218228930.885  | validation loss: 256139420.235\n",
      "EPOCH: 27 | training loss: 216246708.275  | validation loss: 254144034.376\n",
      "EPOCH: 28 | training loss: 214162774.767  | validation loss: 253405102.388\n",
      "EPOCH: 29 | training loss: 212179021.671  | validation loss: 251466642.424\n",
      "EPOCH: 30 | training loss: 209875157.932  | validation loss: 250226807.659\n",
      "EPOCH: 31 | training loss: 207852705.077  | validation loss: 249264705.694\n",
      "EPOCH: 32 | training loss: 206090484.661  | validation loss: 248068368.012\n",
      "EPOCH: 33 | training loss: 204503979.271  | validation loss: 247315898.012\n",
      "EPOCH: 34 | training loss: 202537625.657  | validation loss: 246914520.929\n",
      "EPOCH: 35 | training loss: 201205764.187  | validation loss: 245395547.659\n",
      "EPOCH: 36 | training loss: 199511845.554  | validation loss: 244654913.447\n",
      "EPOCH: 37 | training loss: 198131548.819  | validation loss: 243278359.224\n",
      "EPOCH: 38 | training loss: 196721454.853  | validation loss: 242994658.012\n",
      "EPOCH: 39 | training loss: 195965323.99  | validation loss: 243472804.894\n",
      "EPOCH: 40 | training loss: 194621529.387  | validation loss: 242134114.612\n",
      "EPOCH: 41 | training loss: 193028587.957  | validation loss: 241102961.659\n",
      "EPOCH: 42 | training loss: 192504280.53  | validation loss: 239560872.435\n",
      "EPOCH: 43 | training loss: 191150789.707  | validation loss: 240720866.753\n",
      "EPOCH: 44 | training loss: 190130002.991  | validation loss: 240166764.753\n",
      "EPOCH: 45 | training loss: 188940177.436  | validation loss: 238817542.212\n",
      "EPOCH: 46 | training loss: 187894184.763  | validation loss: 240157741.541\n",
      "EPOCH: 47 | training loss: 187631980.823  | validation loss: 238857895.329\n",
      "EPOCH: 48 | training loss: 186322895.26  | validation loss: 237470857.212\n",
      "EPOCH: 49 | training loss: 185633387.234  | validation loss: 237320913.129\n",
      "EPOCH: 50 | training loss: 185177119.313  | validation loss: 236358533.0\n",
      "EPOCH: 51 | training loss: 183543498.836  | validation loss: 237710443.165\n",
      "EPOCH: 52 | training loss: 182671877.996  | validation loss: 236523310.482\n",
      "EPOCH: 53 | training loss: 181961153.149  | validation loss: 236698122.624\n",
      "EPOCH: 54 | training loss: 180828535.462  | validation loss: 236195328.424\n",
      "EPOCH: 55 | training loss: 180627628.215  | validation loss: 235623871.671\n",
      "EPOCH: 56 | training loss: 179613242.391  | validation loss: 235563621.4\n",
      "EPOCH: 57 | training loss: 178086372.453  | validation loss: 235571819.976\n",
      "EPOCH: 58 | training loss: 178289373.205  | validation loss: 235068317.765\n",
      "EPOCH: 59 | training loss: 177763772.766  | validation loss: 235344248.165\n",
      "EPOCH: 60 | training loss: 177019381.749  | validation loss: 234442354.765\n",
      "EPOCH: 61 | training loss: 176250793.116  | validation loss: 235052683.765\n",
      "EPOCH: 62 | training loss: 175882151.46  | validation loss: 235909162.988\n",
      "EPOCH: 63 | training loss: 174297509.958  | validation loss: 234859589.824\n",
      "EPOCH: 64 | training loss: 173821651.277  | validation loss: 236354129.341\n",
      "EPOCH: 65 | training loss: 173828662.714  | validation loss: 235542697.882\n",
      "EPOCH: 66 | training loss: 172829421.342  | validation loss: 236185757.553\n",
      "EPOCH: 67 | training loss: 171969154.736  | validation loss: 236363973.2\n",
      "EPOCH: 68 | training loss: 170775574.963  | validation loss: 236129970.353\n",
      "EPOCH: 69 | training loss: 170328825.721  | validation loss: 236762803.541\n",
      "EPOCH: 70 | training loss: 172130526.089  | validation loss: 235550504.118\n",
      "EPOCH: 71 | training loss: 169160791.731  | validation loss: 236058549.6\n",
      "EPOCH: 72 | training loss: 168805882.981  | validation loss: 234382281.965\n",
      "EPOCH: 73 | training loss: 168797608.58  | validation loss: 234282123.412\n",
      "EPOCH: 74 | training loss: 168593058.494  | validation loss: 234028313.776\n",
      "EPOCH: 75 | training loss: 167244722.014  | validation loss: 233825780.212\n",
      "EPOCH: 76 | training loss: 167245428.861  | validation loss: 234591755.741\n",
      "EPOCH: 77 | training loss: 166863497.612  | validation loss: 234668665.494\n",
      "EPOCH: 78 | training loss: 165130824.304  | validation loss: 235583265.247\n",
      "EPOCH: 79 | training loss: 166324659.046  | validation loss: 234037135.259\n",
      "EPOCH: 80 | training loss: 164240434.641  | validation loss: 233641338.976\n",
      "EPOCH: 81 | training loss: 163916370.348  | validation loss: 234642475.106\n",
      "EPOCH: 82 | training loss: 163254700.915  | validation loss: 232414833.106\n",
      "EPOCH: 83 | training loss: 164972762.978  | validation loss: 233108297.082\n",
      "EPOCH: 84 | training loss: 161286378.572  | validation loss: 233480429.859\n",
      "EPOCH: 85 | training loss: 162870848.151  | validation loss: 232442236.671\n",
      "EPOCH: 86 | training loss: 160704381.942  | validation loss: 233376817.671\n",
      "EPOCH: 87 | training loss: 162277261.511  | validation loss: 231874852.506\n",
      "EPOCH: 88 | training loss: 159364364.078  | validation loss: 234104267.682\n",
      "EPOCH: 89 | training loss: 162717771.303  | validation loss: 231428665.753\n",
      "EPOCH: 90 | training loss: 158016098.915  | validation loss: 231358392.435\n",
      "EPOCH: 91 | training loss: 161193673.014  | validation loss: 230357170.929\n",
      "EPOCH: 92 | training loss: 158410128.245  | validation loss: 231820399.2\n",
      "EPOCH: 93 | training loss: 157519339.936  | validation loss: 231035841.671\n",
      "EPOCH: 94 | training loss: 158782248.643  | validation loss: 232318420.388\n",
      "EPOCH: 95 | training loss: 155345642.526  | validation loss: 231965452.271\n",
      "EPOCH: 96 | training loss: 155263952.405  | validation loss: 231348154.929\n",
      "EPOCH: 97 | training loss: 154563371.275  | validation loss: 230695481.129\n",
      "EPOCH: 98 | training loss: 155868103.257  | validation loss: 233488321.553\n",
      "EPOCH: 99 | training loss: 152478959.414  | validation loss: 232306431.671\n",
      "EPOCH: 100 | training loss: 155155160.98  | validation loss: 231713492.659\n"
     ]
    }
   ],
   "source": [
    "torch.manual_seed(0)\n",
    "np.random.seed(0)\n",
    "random.seed(0)\n",
    "learning_rate = 1e-3\n",
    "batch_size = 100\n",
    "n_epochs = 100\n",
    "device = torch.device('cuda' if torch.cuda.is_available() else 'cpu')\n",
    "model = MLPRegression()\n",
    "model.to(device)\n",
    "optimizer = optim.Adam(model.parameters(), lr=learning_rate)\n",
    "loss_function = nn.MSELoss()\n",
    "train_loader = DataLoader(dataset=train_data, batch_size=batch_size)\n",
    "test_loader = DataLoader(dataset=test_data, batch_size=batch_size)\n",
    "\n",
    "training_loss, validation_loss = Train(\n",
    "    model, optimizer, loss_function, train_loader, test_loader, device, n_epochs)"
   ]
  },
  {
   "cell_type": "code",
   "execution_count": 6,
   "metadata": {},
   "outputs": [
    {
     "data": {
      "text/plain": [
       "<matplotlib.legend.Legend at 0x7fde47aa0890>"
      ]
     },
     "execution_count": 6,
     "metadata": {},
     "output_type": "execute_result"
    },
    {
     "data": {
      "image/png": "[encoded data removed]",
      "text/plain": [
       "<Figure size 640x480 with 1 Axes>"
      ]
     },
     "metadata": {},
     "output_type": "display_data"
    }
   ],
   "source": [
    "plt.plot(training_loss, label=\"training loss\")\n",
    "plt.plot(validation_loss, label=\"validation loss\")\n",
    "plt.legend()"
   ]
  },
  {
   "cell_type": "code",
   "execution_count": 7,
   "metadata": {},
   "outputs": [
    {
     "name": "stdout",
     "output_type": "stream",
     "text": [
      "PREDICTING!\n",
      "Done Predicting!\n"
     ]
    }
   ],
   "source": [
    "predictions = Predict(model, test_loader, device)"
   ]
  },
  {
   "cell_type": "code",
   "execution_count": 8,
   "metadata": {},
   "outputs": [
    {
     "data": {
      "text/plain": [
       "0.77824193"
      ]
     },
     "execution_count": 8,
     "metadata": {},
     "output_type": "execute_result"
    }
   ],
   "source": [
    "# 0.77824193\n",
    "mean_absolute_percentage_error(y_test_init, predictions)"
   ]
  },
  {
   "cell_type": "code",
   "execution_count": 9,
   "metadata": {},
   "outputs": [
    {
     "name": "stdout",
     "output_type": "stream",
     "text": [
      "[ 19210.604 147343.9    73539.89  ...  16199.408  22146.36   43227.473]\n"
     ]
    }
   ],
   "source": [
    "print(predictions)"
   ]
  },
  {
   "cell_type": "code",
   "execution_count": 10,
   "metadata": {},
   "outputs": [
    {
     "data": {
      "text/plain": [
       "27602      15141.255859\n",
       "76273     151002.218750\n",
       "10472      68137.890625\n",
       "170297     15855.565430\n",
       "37183      41303.816406\n",
       "              ...      \n",
       "109209    116063.187500\n",
       "62130      15977.221680\n",
       "64876      15176.331055\n",
       "163421     69037.445312\n",
       "10085      44028.500000\n",
       "Name: p_Truth_Energy, Length: 16968, dtype: float32"
      ]
     },
     "execution_count": 10,
     "metadata": {},
     "output_type": "execute_result"
    }
   ],
   "source": [
    "y_test_init"
   ]
  },
  {
   "cell_type": "code",
   "execution_count": 11,
   "metadata": {},
   "outputs": [
    {
     "data": {
      "text/plain": [
       "(array([140., 357., 499., 523., 540., 591., 536., 541., 548., 528., 547.,\n",
       "        470., 500., 456., 423., 384., 413., 388., 378., 334., 311., 275.,\n",
       "        279., 302., 273., 282., 248., 220., 247., 215., 216., 203., 223.,\n",
       "        200., 203., 169., 173., 151., 177., 158., 128., 118., 122., 102.,\n",
       "        100.,  94.,  90.,  96.,  77.,  77.,  91.,  73.,  80.,  70.,  63.,\n",
       "         61.,  66.,  49.,  64.,  57.,  37.,  58.,  50.,  43.,  39.,  31.,\n",
       "         39.,  38.,  43.,  24.,  35.,  44.,  23.,  28.,  26.,  28.,  36.,\n",
       "         35.,  28.,  23.,  22.,  32.,  19.,  21.,  19.,  18.,  20.,  21.,\n",
       "         22.,  23.,  19.,  23.,  12.,  15.,  13.,  17.,  24.,  13.,  19.,\n",
       "         13.,  22.,  13.,  23.,  14.,  14.,  17.,  13.,  10.,  12.,  10.,\n",
       "          5.,  14.,  10.,  10.,   5.,  10.,  16.,   8.,  11.,   7.,   7.,\n",
       "          8.,   5.,  10.,   9.,   8.,   9.,  10.,   5.,  11.,   5.,  12.,\n",
       "          8.,   8.,   3.,   3.,   3.,   5.,   2.,   4.,   7.,   3.,   4.,\n",
       "          7.,   4.,   5.,   6.,   6.,   4.,   3.,   3.,   7.,   7.,   1.,\n",
       "          2.,   3.,   3.,   1.,   3.,   5.,   3.,   3.,   0.,   3.,   4.,\n",
       "          2.,   2.,   5.,   3.,   4.,   3.,   0.,   2.,   1.,   3.,   0.,\n",
       "          3.,   0.,   2.,   4.,   1.,   3.,   2.,   0.,   1.,   2.,   1.,\n",
       "          4.,   1.,   0.,   2.,   1.,   2.,   2.,   0.,   3.,   1.,   0.,\n",
       "          3.,   1.]),\n",
       " array([1.04373455e+01, 1.51038516e+03, 3.01033297e+03, 4.51028079e+03,\n",
       "        6.01022860e+03, 7.51017641e+03, 9.01012423e+03, 1.05100720e+04,\n",
       "        1.20100199e+04, 1.35099677e+04, 1.50099155e+04, 1.65098633e+04,\n",
       "        1.80098111e+04, 1.95097589e+04, 2.10097067e+04, 2.25096545e+04,\n",
       "        2.40096024e+04, 2.55095502e+04, 2.70094980e+04, 2.85094458e+04,\n",
       "        3.00093936e+04, 3.15093414e+04, 3.30092892e+04, 3.45092371e+04,\n",
       "        3.60091849e+04, 3.75091327e+04, 3.90090805e+04, 4.05090283e+04,\n",
       "        4.20089761e+04, 4.35089239e+04, 4.50088717e+04, 4.65088196e+04,\n",
       "        4.80087674e+04, 4.95087152e+04, 5.10086630e+04, 5.25086108e+04,\n",
       "        5.40085586e+04, 5.55085064e+04, 5.70084542e+04, 5.85084021e+04,\n",
       "        6.00083499e+04, 6.15082977e+04, 6.30082455e+04, 6.45081933e+04,\n",
       "        6.60081411e+04, 6.75080889e+04, 6.90080368e+04, 7.05079846e+04,\n",
       "        7.20079324e+04, 7.35078802e+04, 7.50078280e+04, 7.65077758e+04,\n",
       "        7.80077236e+04, 7.95076714e+04, 8.10076193e+04, 8.25075671e+04,\n",
       "        8.40075149e+04, 8.55074627e+04, 8.70074105e+04, 8.85073583e+04,\n",
       "        9.00073061e+04, 9.15072540e+04, 9.30072018e+04, 9.45071496e+04,\n",
       "        9.60070974e+04, 9.75070452e+04, 9.90069930e+04, 1.00506941e+05,\n",
       "        1.02006889e+05, 1.03506836e+05, 1.05006784e+05, 1.06506732e+05,\n",
       "        1.08006680e+05, 1.09506628e+05, 1.11006576e+05, 1.12506523e+05,\n",
       "        1.14006471e+05, 1.15506419e+05, 1.17006367e+05, 1.18506315e+05,\n",
       "        1.20006262e+05, 1.21506210e+05, 1.23006158e+05, 1.24506106e+05,\n",
       "        1.26006054e+05, 1.27506001e+05, 1.29005949e+05, 1.30505897e+05,\n",
       "        1.32005845e+05, 1.33505793e+05, 1.35005741e+05, 1.36505688e+05,\n",
       "        1.38005636e+05, 1.39505584e+05, 1.41005532e+05, 1.42505480e+05,\n",
       "        1.44005427e+05, 1.45505375e+05, 1.47005323e+05, 1.48505271e+05,\n",
       "        1.50005219e+05, 1.51505166e+05, 1.53005114e+05, 1.54505062e+05,\n",
       "        1.56005010e+05, 1.57504958e+05, 1.59004906e+05, 1.60504853e+05,\n",
       "        1.62004801e+05, 1.63504749e+05, 1.65004697e+05, 1.66504645e+05,\n",
       "        1.68004592e+05, 1.69504540e+05, 1.71004488e+05, 1.72504436e+05,\n",
       "        1.74004384e+05, 1.75504331e+05, 1.77004279e+05, 1.78504227e+05,\n",
       "        1.80004175e+05, 1.81504123e+05, 1.83004071e+05, 1.84504018e+05,\n",
       "        1.86003966e+05, 1.87503914e+05, 1.89003862e+05, 1.90503810e+05,\n",
       "        1.92003757e+05, 1.93503705e+05, 1.95003653e+05, 1.96503601e+05,\n",
       "        1.98003549e+05, 1.99503497e+05, 2.01003444e+05, 2.02503392e+05,\n",
       "        2.04003340e+05, 2.05503288e+05, 2.07003236e+05, 2.08503183e+05,\n",
       "        2.10003131e+05, 2.11503079e+05, 2.13003027e+05, 2.14502975e+05,\n",
       "        2.16002922e+05, 2.17502870e+05, 2.19002818e+05, 2.20502766e+05,\n",
       "        2.22002714e+05, 2.23502662e+05, 2.25002609e+05, 2.26502557e+05,\n",
       "        2.28002505e+05, 2.29502453e+05, 2.31002401e+05, 2.32502348e+05,\n",
       "        2.34002296e+05, 2.35502244e+05, 2.37002192e+05, 2.38502140e+05,\n",
       "        2.40002087e+05, 2.41502035e+05, 2.43001983e+05, 2.44501931e+05,\n",
       "        2.46001879e+05, 2.47501827e+05, 2.49001774e+05, 2.50501722e+05,\n",
       "        2.52001670e+05, 2.53501618e+05, 2.55001566e+05, 2.56501513e+05,\n",
       "        2.58001461e+05, 2.59501409e+05, 2.61001357e+05, 2.62501305e+05,\n",
       "        2.64001252e+05, 2.65501200e+05, 2.67001148e+05, 2.68501096e+05,\n",
       "        2.70001044e+05, 2.71500992e+05, 2.73000939e+05, 2.74500887e+05,\n",
       "        2.76000835e+05, 2.77500783e+05, 2.79000731e+05, 2.80500678e+05,\n",
       "        2.82000626e+05, 2.83500574e+05, 2.85000522e+05, 2.86500470e+05,\n",
       "        2.88000417e+05, 2.89500365e+05, 2.91000313e+05, 2.92500261e+05,\n",
       "        2.94000209e+05, 2.95500157e+05, 2.97000104e+05, 2.98500052e+05,\n",
       "        3.00000000e+05]),\n",
       " <BarContainer object of 200 artists>)"
      ]
     },
     "execution_count": 11,
     "metadata": {},
     "output_type": "execute_result"
    },
    {
     "data": {
      "image/png": "[encoded data removed]",
      "text/plain": [
       "<Figure size 640x480 with 1 Axes>"
      ]
     },
     "metadata": {},
     "output_type": "display_data"
    }
   ],
   "source": [
    "plt.hist(y_test_init, bins=200, range=(y_test_init.min(), 300000))"
   ]
  },
  {
   "cell_type": "code",
   "execution_count": 12,
   "metadata": {},
   "outputs": [
    {
     "data": {
      "text/plain": [
       "(array([299., 610., 554., 555., 557., 543., 536., 582., 563., 506., 487.,\n",
       "        485., 460., 424., 405., 381., 377., 355., 344., 331., 297., 269.,\n",
       "        267., 282., 262., 257., 253., 231., 229., 218., 234., 214., 184.,\n",
       "        177., 207., 165., 166., 141., 134., 118., 139., 112., 107., 121.,\n",
       "        115., 107., 101.,  88.,  80.,  73.,  86.,  78.,  56.,  73.,  62.,\n",
       "         73.,  55.,  66.,  47.,  48.,  54.,  53.,  60.,  30.,  49.,  38.,\n",
       "         52.,  33.,  44.,  25.,  35.,  33.,  30.,  31.,  33.,  38.,  27.,\n",
       "         24.,  21.,  29.,  27.,  18.,  21.,  25.,  26.,  21.,  13.,  20.,\n",
       "         11.,  14.,  17.,  19.,  21.,  16.,  19.,  29.,  12.,  16.,  12.,\n",
       "         21.,  11.,  17.,  10.,  17.,  16.,  15.,  12.,  12.,  11.,  10.,\n",
       "         12.,  19.,  10.,   7.,   7.,   5.,   7.,   2.,   8.,   5.,  11.,\n",
       "         12.,   6.,   6.,   5.,   8.,   9.,   4.,   4.,  12.,   5.,   6.,\n",
       "          5.,   2.,   6.,   5.,   6.,   6.,   2.,   4.,   4.,   3.,   4.,\n",
       "          8.,   2.,   2.,   6.,   6.,   3.,   3.,   8.,   4.,   1.,   4.,\n",
       "          4.,   3.,   5.,   5.,   6.,   2.,   2.,   3.,   5.,   3.,   2.,\n",
       "          1.,   1.,   2.,   0.,   2.,   2.,   1.,   2.,   1.,   2.,   3.,\n",
       "          0.,   2.,   3.,   3.,   2.,   2.,   3.,   2.,   3.,   3.,   2.,\n",
       "          2.,   2.,   1.,   1.,   0.,   0.,   0.,   0.,   3.,   1.,   0.,\n",
       "          2.,   2.]),\n",
       " array([  3494.01904297,   4976.54894775,   6459.07885254,   7941.60875732,\n",
       "          9424.13866211,  10906.66856689,  12389.19847168,  13871.72837646,\n",
       "         15354.25828125,  16836.78818604,  18319.31809082,  19801.84799561,\n",
       "         21284.37790039,  22766.90780518,  24249.43770996,  25731.96761475,\n",
       "         27214.49751953,  28697.02742432,  30179.5573291 ,  31662.08723389,\n",
       "         33144.61713867,  34627.14704346,  36109.67694824,  37592.20685303,\n",
       "         39074.73675781,  40557.2666626 ,  42039.79656738,  43522.32647217,\n",
       "         45004.85637695,  46487.38628174,  47969.91618652,  49452.44609131,\n",
       "         50934.97599609,  52417.50590088,  53900.03580566,  55382.56571045,\n",
       "         56865.09561523,  58347.62552002,  59830.1554248 ,  61312.68532959,\n",
       "         62795.21523438,  64277.74513916,  65760.27504395,  67242.80494873,\n",
       "         68725.33485352,  70207.8647583 ,  71690.39466309,  73172.92456787,\n",
       "         74655.45447266,  76137.98437744,  77620.51428223,  79103.04418701,\n",
       "         80585.5740918 ,  82068.10399658,  83550.63390137,  85033.16380615,\n",
       "         86515.69371094,  87998.22361572,  89480.75352051,  90963.28342529,\n",
       "         92445.81333008,  93928.34323486,  95410.87313965,  96893.40304443,\n",
       "         98375.93294922,  99858.462854  , 101340.99275879, 102823.52266357,\n",
       "        104306.05256836, 105788.58247314, 107271.11237793, 108753.64228271,\n",
       "        110236.1721875 , 111718.70209229, 113201.23199707, 114683.76190186,\n",
       "        116166.29180664, 117648.82171143, 119131.35161621, 120613.881521  ,\n",
       "        122096.41142578, 123578.94133057, 125061.47123535, 126544.00114014,\n",
       "        128026.53104492, 129509.06094971, 130991.59085449, 132474.12075928,\n",
       "        133956.65066406, 135439.18056885, 136921.71047363, 138404.24037842,\n",
       "        139886.7702832 , 141369.30018799, 142851.83009277, 144334.35999756,\n",
       "        145816.88990234, 147299.41980713, 148781.94971191, 150264.4796167 ,\n",
       "        151747.00952148, 153229.53942627, 154712.06933105, 156194.59923584,\n",
       "        157677.12914063, 159159.65904541, 160642.1889502 , 162124.71885498,\n",
       "        163607.24875977, 165089.77866455, 166572.30856934, 168054.83847412,\n",
       "        169537.36837891, 171019.89828369, 172502.42818848, 173984.95809326,\n",
       "        175467.48799805, 176950.01790283, 178432.54780762, 179915.0777124 ,\n",
       "        181397.60761719, 182880.13752197, 184362.66742676, 185845.19733154,\n",
       "        187327.72723633, 188810.25714111, 190292.7870459 , 191775.31695068,\n",
       "        193257.84685547, 194740.37676025, 196222.90666504, 197705.43656982,\n",
       "        199187.96647461, 200670.49637939, 202153.02628418, 203635.55618896,\n",
       "        205118.08609375, 206600.61599854, 208083.14590332, 209565.67580811,\n",
       "        211048.20571289, 212530.73561768, 214013.26552246, 215495.79542725,\n",
       "        216978.32533203, 218460.85523682, 219943.3851416 , 221425.91504639,\n",
       "        222908.44495117, 224390.97485596, 225873.50476074, 227356.03466553,\n",
       "        228838.56457031, 230321.0944751 , 231803.62437988, 233286.15428467,\n",
       "        234768.68418945, 236251.21409424, 237733.74399902, 239216.27390381,\n",
       "        240698.80380859, 242181.33371338, 243663.86361816, 245146.39352295,\n",
       "        246628.92342773, 248111.45333252, 249593.9832373 , 251076.51314209,\n",
       "        252559.04304688, 254041.57295166, 255524.10285645, 257006.63276123,\n",
       "        258489.16266602, 259971.6925708 , 261454.22247559, 262936.75238037,\n",
       "        264419.28228516, 265901.81218994, 267384.34209473, 268866.87199951,\n",
       "        270349.4019043 , 271831.93180908, 273314.46171387, 274796.99161865,\n",
       "        276279.52152344, 277762.05142822, 279244.58133301, 280727.11123779,\n",
       "        282209.64114258, 283692.17104736, 285174.70095215, 286657.23085693,\n",
       "        288139.76076172, 289622.2906665 , 291104.82057129, 292587.35047607,\n",
       "        294069.88038086, 295552.41028564, 297034.94019043, 298517.47009521,\n",
       "        300000.        ]),\n",
       " <BarContainer object of 200 artists>)"
      ]
     },
     "execution_count": 12,
     "metadata": {},
     "output_type": "execute_result"
    },
    {
     "data": {
      "image/png": "[encoded data removed]",
      "text/plain": [
       "<Figure size 640x480 with 1 Axes>"
      ]
     },
     "metadata": {},
     "output_type": "display_data"
    }
   ],
   "source": [
    "plt.hist(predictions, bins=200, range=(predictions.min(), 300000))"
   ]
  },
  {
   "cell_type": "code",
   "execution_count": 13,
   "metadata": {},
   "outputs": [],
   "source": [
    "pred_out = (model.cpu()(torch.FloatTensor(scaler.fit_transform(np.array(\n",
    "    test_df[selected_features]))).detach().cpu())).detach().numpy().flatten()"
   ]
  },
  {
   "cell_type": "code",
   "execution_count": 14,
   "metadata": {},
   "outputs": [
    {
     "name": "stdout",
     "output_type": "stream",
     "text": [
      "[12627.47  73098.805 59548.965 ... 17677.46   8642.72  15660.966]\n"
     ]
    }
   ],
   "source": [
    "print(pred_out)"
   ]
  },
  {
   "cell_type": "code",
   "execution_count": 15,
   "metadata": {},
   "outputs": [],
   "source": [
    "# csv_out_path = \"Solution_files/Regression_AliAhmad_PytorchNN.csv\"\n",
    "# pd.Series(pred_out).to_csv(csv_out_path, sep=\",\", header=None)"
   ]
  },
  {
   "cell_type": "code",
   "execution_count": 59,
   "metadata": {},
   "outputs": [
    {
     "name": "stdout",
     "output_type": "stream",
     "text": [
      "Total params: 50433\n"
     ]
    }
   ],
   "source": [
    "pytorch_total_params = sum(p.numel() for p in model.parameters() if p.requires_grad)\n",
    "print(f\"Total params: {pytorch_total_params}\")\n",
    "# Total params: 50433"
   ]
  }
 ],
 "metadata": {
  "kernelspec": {
   "display_name": "base",
   "language": "python",
   "name": "python3"
  },
  "language_info": {
   "codemirror_mode": {
    "name": "ipython",
    "version": 3
   },
   "file_extension": ".py",
   "mimetype": "text/x-python",
   "name": "python",
   "nbconvert_exporter": "python",
   "pygments_lexer": "ipython3",
   "version": "3.11.5"
  }
 },
 "nbformat": 4,
 "nbformat_minor": 2
}
